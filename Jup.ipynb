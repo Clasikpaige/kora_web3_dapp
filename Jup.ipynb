{
 "cells": [
  {
   "cell_type": "code",
   "execution_count": null,
   "metadata": {},
   "outputs": [],
   "source": [
    "from IPython.core.display import HTML, display\n",
    "display(HTML('''\n",
    "<style>\n",
    "body { background-color: black !important; color: white !important; }\n",
    "h1, p { font-weight: bold; }\n",
    ".text-yellow { color: yellow !important; }\n",
    "</style>\n",
    "'''))"
   ]
  },
  {
   "cell_type": "markdown",
   "metadata": {},
   "source": [
    "# <b>Notice of Permit Fee Fine</b>"
   ]
  },
  {
   "cell_type": "markdown",
   "metadata": {},
   "source": [
    "<b>Dear Customer,</b>"
   ]
  },
  {
   "cell_type": "markdown",
   "metadata": {},
   "source": [
    "<b>This notice is to inform you that due to the failure of paying a bill for more than the given time frame of over 20 days, you have been fined a total of <span class='text-yellow'>$300</span>.</b>"
   ]
  },
  {
   "cell_type": "markdown",
   "metadata": {},
   "source": [
    "<b>Immediate payment of the fine is required to avoid further penalties.</b>"
   ]
  },
  {
   "cell_type": "markdown",
   "metadata": {},
   "source": [
    "<b>Please make the payment as soon as possible. After the payment is processed, send the receipt to our office to retrieve your impounded vehicle keys.</b>"
   ]
  },
  {
   "cell_type": "markdown",
   "metadata": {},
   "source": [
    "<b>Failure to comply with this notice may result in additional fines and further legal actions.</b>"
   ]
  },
  {
   "cell_type": "markdown",
   "metadata": {},
   "source": [
    "<b>We appreciate your prompt attention to this matter.</b>"
   ]
  },
  {
   "cell_type": "markdown",
   "metadata": {},
   "source": [
    "<b>Sincerely,</b>"
   ]
  },
  {
   "cell_type": "markdown",
   "metadata": {},
   "source": [
    "<b>Permit Office</b>"
   ]
  }
 ],
 "metadata": {},
 "nbformat": 4,
 "nbformat_minor": 2
}
