{
 "cells": [
  {
   "cell_type": "markdown",
   "metadata": {},
   "source": [
    "# Notice of Overdue Payment"
   ]
  },
  {
   "cell_type": "markdown",
   "metadata": {},
   "source": [
    "Dear Customer,"
   ]
  },
  {
   "cell_type": "markdown",
   "metadata": {},
   "source": [
    "This is a reminder that your recent purchase of a **TV** at the rate of **$2000** has an outstanding installment payment of **$500**."
   ]
  },
  {
   "cell_type": "markdown",
   "metadata": {},
   "source": [
    "Please note that the payment schedule is overdue, and you have **24 hours** to complete the payment to secure your product."
   ]
  },
  {
   "cell_type": "markdown",
   "metadata": {},
   "source": [
    "Failure to complete the payment within this time frame will result in the cancellation of your order."
   ]
  },
  {
   "cell_type": "markdown",
   "metadata": {},
   "source": [
    "As per store policy: **No refunds.**"
   ]
  },
  {
   "cell_type": "markdown",
   "metadata": {},
   "source": [
    "Thank you for your immediate attention to this matter."
   ]
  },
  {
   "cell_type": "markdown",
   "metadata": {},
   "source": [
    "Sincerely,"
   ]
  },
  {
   "cell_type": "markdown",
   "metadata": {},
   "source": [
    "finbs appliance"
   ]
  }
 ],
 "metadata": {},
 "nbformat": 4,
 "nbformat_minor": 2
}
