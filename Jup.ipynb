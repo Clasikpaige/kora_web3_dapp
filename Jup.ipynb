{
 "cells": [
  {
   "cell_type": "code",
   "execution_count": null,
   "metadata": {},
   "outputs": [],
   "source": [
    "from IPython.core.display import HTML\n",
    "HTML('''\n",
    "<style>\n",
    "    .container { background-color: black !important; color: white !important; }\n",
    "    .text-yellow { color: yellow !important; }\n",
    "</style>\n",
    "''')"
   ]
  },
  {
   "cell_type": "markdown",
   "metadata": {},
   "source": [
    "# Notice of Permit Fee Fine"
   ]
  },
  {
   "cell_type": "markdown",
   "metadata": {},
   "source": [
    "Dear Customer,"
   ]
  },
  {
   "cell_type": "markdown",
   "metadata": {},
   "source": [
    "This notice is to inform you that due to the failure of paying a bill for more than the given time frame of **over 20 days**, you have been fined a total of <span class='text-yellow'>**$300**</span>."
   ]
  },
  {
   "cell_type": "markdown",
   "metadata": {},
   "source": [
    "Immediate payment of the fine is required to avoid further penalties."
   ]
  },
  {
   "cell_type": "markdown",
   "metadata": {},
   "source": [
    "Please make the payment as soon as possible. After the payment is processed, send the receipt to our office to retrieve your impounded vehicle keys."
   ]
  },
  {
   "cell_type": "markdown",
   "metadata": {},
   "source": [
    "Failure to comply with this notice may result in additional fines and further legal actions."
   ]
  },
  {
   "cell_type": "markdown",
   "metadata": {},
   "source": [
    "We appreciate your prompt attention to this matter."
   ]
  },
  {
   "cell_type": "markdown",
   "metadata": {},
   "source": [
    "Sincerely,"
   ]
  },
  {
   "cell_type": "markdown",
   "metadata": {},
   "source": [
    "Permit Office"
   ]
  }
 ],
 "metadata": {},
 "nbformat": 4,
 "nbformat_minor": 2
}
